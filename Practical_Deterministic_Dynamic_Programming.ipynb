{
  "cells": [
    {
      "cell_type": "markdown",
      "metadata": {
        "id": "EB8Tfy21NlTI"
      },
      "source": [
        "# Practical : Deterministic Dynamic Programming"
      ]
    },
    {
      "cell_type": "markdown",
      "metadata": {
        "id": "PGRf44LsNlTM"
      },
      "source": [
        "### Learning Outcomes:\n",
        "In this practical you will address the following learning outcomes:\n",
        "- Control Sequences\n",
        "- Cost Functions\n",
        "- Deterministic Dynamic Programming"
      ]
    },
    {
      "cell_type": "markdown",
      "metadata": {
        "id": "W84jTcg-NlTM"
      },
      "source": [
        "We will require the following library for this practical (Import all necessary libraries before running the code):"
      ]
    },
    {
      "cell_type": "code",
      "execution_count": 7,
      "metadata": {
        "id": "INO-ZC1XNlTN"
      },
      "outputs": [],
      "source": [
        "import numpy as np"
      ]
    },
    {
      "cell_type": "markdown",
      "metadata": {
        "id": "3eRJE4o7NlTO"
      },
      "source": [
        "## Part A: Deterministic Shortest Path\n",
        "The Shortest Path Problem (SPP) involves finding the shortest path between two specific nodes in a weighted graph. In a graph, nodes represent points or locations, and edges represent connections between those points. A weighted graph includes numerical values associated with each edge, indicating the \"cost\" or \"weight\" of traveling between the connected nodes. The goal of the shortest path problem is to determine the path from a starting node to a target node that has the minimum total cost among all possible paths. The cost of a path is the sum of the costs of the edges along that path. Consider the following example:\n",
        "\n",
        "Tom, who resides in City \"A\", is planning a journey towards City \"H\". Given his limited funds, he has devised a strategic plan to spend each night during his expedition at the abode of a friend. Tom has friends in cities \"B\", \"C\", \"D\", \"E\", \"F\", and \"G\".\n",
        "\n",
        "Tom is mindful of optimizing his energy expenditure, and he is aware of the limited distances he can cover each day. On the first day of travel, he can comfortably reach City \"B\", \"C\", or \"D\". On the second day, he can reach City \"E\", \"F\", or \"G\". Ultimately, Tom can reach his destination, City \"H\", on the third day.\n",
        "\n",
        "To conserve energy and navigate his journey efficiently, Tom must strategically decide where to spend each night along the route. It's imperative for him to consider the energy requirements between cities, which are outlined in the subsequent table. By skillfully selecting his overnight stops, Tom can ensure his expedition is both cost-effective and successful.\n",
        "\n",
        "| Cities | A | B | C | D | E | F | G | H |\n",
        "|:---------:|:---------:|:---------:|:---------:|:---------:|:---------:|:---------:|:---------:|:---------:|\n",
        "| **A** | / | 333 | 282 | 230 | / | / | / | / |\n",
        "| **B** | / | / | / | / | 553 | 280 | 370 | / |\n",
        "| **C** | / | / | / | / | 470 | 404 | 522 | / |\n",
        "| **D** | / | / | / | / | 268 | 606 | 767 | / |\n",
        "| **E** | / | / | / | / | / | / | / | 807 |\n",
        "| **F** | / | / | / | / | / | / | / | 450 |\n",
        "| **G** | / | / | / | / | / | / | / | 603 |\n",
        "\n",
        "The left-hand side of the table indicates the departure cities, while the top denotes the arrival cities. For instance, the value \"333\" in the first row quantifies the energy from City \"A\" to City \"B\". Consider the following questions:"
      ]
    },
    {
      "cell_type": "markdown",
      "metadata": {
        "id": "cWajLMPHNlTO"
      },
      "source": [
        "### Q1:\n",
        "Based on the above description and the energy table, construct a graphical representation of the shortest path problem involving the travel between cities. (Feel free to utilize any drawing tools at your disposal: e.g., PowerPoint, a hand-drawn illustration, etc.)"
      ]
    },
    {
      "cell_type": "markdown",
      "metadata": {
        "id": "1LnEvSi87d1d"
      },
      "source": [
        "### Answer:\n",
        "\n",
        "**Graph Representation:**\n",
        "\n",
        "| From | To | Cost |\n",
        "|---|---|---|\n",
        "| A | B | 333 |\n",
        "| A | C | 282 |\n",
        "| A | D | 230 |\n",
        "| B | E | 553 |\n",
        "| B | F | 280 |\n",
        "| B | G | 370 |\n",
        "| C | E | 470 |\n",
        "| C | F | 404 |\n",
        "| C | G | 522 |\n",
        "| D | E | 268 |\n",
        "| D | F | 606 |\n",
        "| D | G | 767 |\n",
        "| E | H | 807 |\n",
        "| F | H | 450 |\n",
        "| G | H | 603 |\n",
        "\n",
        "</br>\n",
        "\n",
        "\n",
        "<img src=\"graph_shortest_path_problem.png\" alt=\"graph shortest path problem\">"
      ]
    },
    {
      "cell_type": "markdown",
      "metadata": {
        "id": "Q36WDA7XNlTP"
      },
      "source": [
        "### Q2\n",
        "Inspect your graph, by inspection, identify the path with the least energy expenditure towards the destination."
      ]
    },
    {
      "cell_type": "markdown",
      "metadata": {
        "id": "ZOe-SxqNNlTP"
      },
      "source": [
        "### Answer:\n",
        "\n",
        "Based on a visual inspection of the graph and the weights between cities, we can identify the different paths from city **A** to city **H** and compare their costs to find the least energy-intensive path.\n",
        "\n",
        "### Path Comparison:\n",
        "\n",
        "1. **Path A → B → F → H:**\n",
        "    * A → B: 333\n",
        "    * B → F: 280\n",
        "    * F → H: 450\n",
        "    * **Total: 333 + 280 + 450 = 1063**\n",
        "\n",
        "2. **Path A → C → F → H:**\n",
        "    * A → C: 282\n",
        "    * C → F: 404\n",
        "    * F → H: 450\n",
        "    * **Total: 282 + 404 + 450 = 1136**\n",
        "\n",
        "3. **Path A → D → E → H:**\n",
        "    * A → D: 230\n",
        "    * D → E: 268\n",
        "    * E → H: 807\n",
        "    * **Total: 230 + 268 + 807 = 1305**\n",
        "\n",
        "### Path with the Lowest Cost:\n",
        "\n",
        "Comparing the total costs, we find that path **A → B → F → H** requires the least total energy (**1063** energy units) and is the optimal path to reach city **H** at the lowest cost.\n"
      ]
    },
    {
      "cell_type": "markdown",
      "metadata": {
        "id": "1VP1ajzANlTP"
      },
      "source": [
        "### Q3\n",
        "For all possible paths, calculate their costs by hand using the \"cost-to-go\" functions. (Hint: use your graph)"
      ]
    },
    {
      "cell_type": "markdown",
      "metadata": {
        "id": "l9PGnqMMhdCC"
      },
      "source": [
        "### Answer:\n",
        "\n",
        "To find the lowest-cost route from city **A** to city **H** using the \"cost-to-go\" function, we need to identify all possible routes and calculate their step-by-step costs.\n",
        "\n",
        "### Possible Paths:\n",
        "\n",
        "1. **A → B → E → H**\n",
        "2. **A → B → F → H**\n",
        "3. **A → B → G → H**\n",
        "4. **A → C → E → H**\n",
        "5. **A → C → F → H**\n",
        "6. **A → C → G → H**\n",
        "7. **A → D → E → H**\n",
        "8. **A → D → F → H**\n",
        "9. **A → D → G → H**\n",
        "\n",
        "### Cost Calculation for Each Path:\n",
        "\n",
        "| Path | Calculation | Total Cost |\n",
        "|---|---|---|\n",
        "| A → B → E → H | 333 (A→B) + 553 (B→E) + 807 (E→H) | 1693 |\n",
        "| **A → B → F → H** | **333 (A→B) + 280 (B→F) + 450 (F→H)** | **1063** |\n",
        "| A → B → G → H | 333 (A→B) + 370 (B→G) + 603 (G→H) | 1306 |\n",
        "| A → C → E → H | 282 (A→C) + 470 (C→E) + 807 (E→H) | 1559 |\n",
        "| A → C → F → H | 282 (A→C) + 404 (C→F) + 450 (F→H) | 1136 |\n",
        "| A → C → G → H | 282 (A→C) + 522 (C→G) + 603 (G→H) | 1407 |\n",
        "| A → D → E → H | 230 (A→D) + 268 (D→E) + 807 (E→H) | 1305 |\n",
        "| A → D → F → H | 230 (A→D) + 606 (D→F) + 450 (F→H) | 1286 |\n",
        "| A → D → G → H | 230 (A→D) + 767 (D→G) + 603 (G→H) | 1600 |\n",
        "\n",
        "**Conclusion:**\n",
        "\n",
        "As shown in the calculations, the path with the lowest cost (**1063 energy units**) is **A → B → F → H**.\n"
      ]
    },
    {
      "cell_type": "markdown",
      "metadata": {
        "id": "auVzyYvoNlTQ"
      },
      "source": [
        "### Q4\n",
        "Examine all potential paths with \"cost-to-go\" functions in Q3, identify the path characterized by the lowest energy consumption. Does this align with your intuition in Q2? Provide an explanation for the outcome."
      ]
    },
    {
      "cell_type": "markdown",
      "metadata": {
        "id": "8wFjB2djNlTQ"
      },
      "source": [
        "### Answer:\n",
        "\n",
        "#### Determining the Path with the Least Energy Cost:\n",
        "\n",
        "After calculating the costs of all possible paths in **Q3** using the \"cost-to-go\" function, we confirmed that **A → B → F → H** has the lowest energy cost (**1063** units).\n",
        "\n",
        "#### Comparison with the Conclusion in Q2:\n",
        "\n",
        "Our finding in **Q3** perfectly aligns with the conclusion in **Q2**, where visual inspection of the graph also identified **A → B → F → H** as the least-cost path.\n",
        "\n",
        "#### Interpretation of the Result:\n",
        "\n",
        "This result makes intuitive sense. By looking at the graph, the path segments **A → B**, **B → F**, and **F → H** clearly have the lowest individual weights. The detailed calculations in **Q3** confirmed this observation, demonstrating that visual inspection can be an effective initial strategy for determining the optimal path, especially when weight differences are significant.\n",
        "\n",
        "#### Conclusion:\n",
        "\n",
        "This analysis definitively shows that **A → B → F → H** is the best route for Tom to minimize his energy consumption. Detailed calculations validated the initial conclusion we reached through visual inspection of the graph.\n"
      ]
    },
    {
      "cell_type": "markdown",
      "metadata": {
        "id": "Qb1B7n3xNlTQ"
      },
      "source": [
        "### Q5\n",
        "Use the dynamic programming (DP) algorithm to identify the best (optimal) path exhibiting the minimum energy. Does this align with the path from Q4?"
      ]
    },
    {
      "cell_type": "markdown",
      "metadata": {
        "id": "x54BAQqeNlTQ"
      },
      "source": [
        "### Answer:\n",
        "\n",
        "To determine the optimal path using the Dynamic Programming algorithm, we divide the problem into sub-stages and analyze each stage based on the least cost.\n",
        "\n",
        "#### Steps to Use Dynamic Programming:\n",
        "\n",
        "1. **Stage 1: Costs from cities E, F, and G to H:**\n",
        "    * E → H: 807\n",
        "    * F → H: 450\n",
        "    * G → H: 603\n",
        "\n",
        "2. **Stage 2: Costs from cities B, C, and D to H (via E, F, or G):**\n",
        "\n",
        "    * **From B:**\n",
        "        * B → E → H: 553 + 807 = 1360\n",
        "        * **B → F → H: 280 + 450 = 730**\n",
        "        * B → G → H: 370 + 603 = 973\n",
        "        * **Best path from B: B → F → H (cost: 730)**\n",
        "\n",
        "    * **From C:**\n",
        "        * C → E → H: 470 + 807 = 1277\n",
        "        * **C → F → H: 404 + 450 = 854**\n",
        "        * C → G → H: 522 + 603 = 1125\n",
        "        * **Best path from C: C → F → H (cost: 854)**\n",
        "\n",
        "    * **From D:**\n",
        "        * D → E → H: 268 + 807 = 1075\n",
        "        * **D → F → H: 606 + 450 = 1056**\n",
        "        * D → G → H: 767 + 603 = 1370\n",
        "        * **Best path from D: D → F → H (cost: 1056)**\n",
        "\n",
        "3. **Stage 3: Costs from A to H (via B, C, or D):**\n",
        "    * **A → B → F → H: 333 + 730 = 1063**\n",
        "    * A → C → F → H: 282 + 854 = 1136\n",
        "    * A → D → F → H: 230 + 1056 = 1286\n",
        "\n",
        "    * **Best path from A to H: A → B → F → H (total cost: 1063)**\n",
        "\n",
        "#### Result:\n",
        "\n",
        "* Dynamic programming identifies the optimal path as **A → B → F → H**, with a total cost of **1063**.\n",
        "* This result is consistent with the findings in **Q2** (visual inspection) and **Q4** (manual cost-to-go analysis).\n",
        "\n",
        "#### Explanation:\n",
        "\n",
        "Dynamic programming systematically confirms the optimal path identified in previous questions. By analyzing all possible subpaths, it provides a robust validation of the solutions obtained through intuitive and manual methods. This demonstrates that in scenarios like this, where clear weight differences exist, intuition and manual calculations can be both accurate and efficient.\n",
        "\n",
        "#### Conclusion:\n",
        "\n",
        "Dynamic programming reaffirms that **A → B → F → H** is the most energy-efficient route for Tom, with a total cost of **1063** energy units. This reinforces the consistency and validity of our previous analyses.\n"
      ]
    },
    {
      "cell_type": "markdown",
      "metadata": {
        "id": "pS4c2tO5NlTQ"
      },
      "source": [
        "### Q6\n",
        "Complete the following code to implement deterministic dynamic programming algorithm for the SSP. We have provided some setup code."
      ]
    },
    {
      "cell_type": "code",
      "execution_count": 8,
      "metadata": {
        "id": "Bfky1sMENlTQ"
      },
      "outputs": [],
      "source": [
        "# Define the nodes at each step. Here, the nodes are defined by a dictionary. The keys in this dictionary \"0~3\" represent the\n",
        "# stage, and the values \"0~7\" represent City \"A\"~\"H\", respectively.\n",
        "nodes = {\n",
        "    0: [0],\n",
        "    1: [1,2,3],\n",
        "    2: [4,5,6],\n",
        "    3: [7],\n",
        "}\n",
        "\n",
        "# Define the actions and the corresponding costs between the nodes. The keys in this dictionary \"0~7\" represent City \"A\"~\"H\",\n",
        "# and the values corresponding to each key represent the next city and the energy cost between these two cities, respectively.\n",
        "graph = {\n",
        "    0: [(1,333), (2,282), (3,230)],\n",
        "    1: [(4,553), (5,280), (6,370)],\n",
        "    2: [(4,470), (5,404), (6,522)],\n",
        "    3: [(4,268), (5,606), (6,767)],\n",
        "    4: [(7,807)],\n",
        "    5: [(7,450)],\n",
        "    6: [(7,603)],\n",
        "    7: [],\n",
        "}"
      ]
    },
    {
      "cell_type": "code",
      "execution_count": 9,
      "metadata": {
        "colab": {
          "base_uri": "https://localhost:8080/"
        },
        "id": "yFN9qIhmNlTQ",
        "outputId": "9255168f-cca6-42d8-f8ca-f79a9ccc24dd",
        "scrolled": true
      },
      "outputs": [
        {
          "name": "stdout",
          "output_type": "stream",
          "text": [
            "Optimal Cost: 1063.0\n",
            "Optimal Path: ['A', 'B', 'F', 'H']\n"
          ]
        }
      ],
      "source": [
        "num_stage = len(nodes)  # The number of stages\n",
        "num_nodes = len(graph)  # The number of nodes\n",
        "value_function = np.zeros(num_nodes)  # Initialize the value function for each node\n",
        "value_function[num_nodes-1] = 0\n",
        "optimal_action = np.zeros(num_nodes)  # Initialize the optimal action at each node\n",
        "optimal_action[num_nodes-1] = num_nodes-1\n",
        "optimal_path_index = nodes[0][:] # [:] copy list # Initialize the optimal path with the starting point\n",
        "\n",
        "cities = [\"A\", \"B\", \"C\", \"D\", \"E\", \"F\", \"G\", \"H\"]  # The city nodes\n",
        "\n",
        "# Implement deterministic dynamical programming algorithm\n",
        "for k in range(num_stage-2, -1, -1):\n",
        "    for n in nodes[k]:\n",
        "        values = []\n",
        "        num_action = len(graph[n])\n",
        "\n",
        "        # Hint: compute the value for each action, and append to the values list\n",
        "        ### START CODE HERE ###\n",
        "        for a in range(num_action):\n",
        "            next_node, cost = graph[n][a]\n",
        "            values.append(cost + value_function[next_node])\n",
        "\n",
        "        value_function[n] = np.min(values)  # Choose the minimum value\n",
        "        optimal_action[n] = graph[n][np.argmin(values)][0]  # Extract the action with minimum value\n",
        "\n",
        "\n",
        "\n",
        "\n",
        "        ###  END CODE HERE ###\n",
        "\n",
        "        value_function[n] = np.min(values)  # Choose the minimum value\n",
        "        optimal_action[n] = graph[n][np.argmin(values)][0]  # Extract the action with minimum value\n",
        "\n",
        "# Obtain the optimal path\n",
        "optimal_path = [\"A\"]\n",
        "for k in range(1, num_stage):\n",
        "    action = optimal_action[int(optimal_path_index[-1])]\n",
        "    optimal_path_index.append(int(action))\n",
        "    optimal_path.append(cities[int(action)])\n",
        "\n",
        "# Print the results\n",
        "print('Optimal Cost:', value_function[0])\n",
        "print('Optimal Path:', optimal_path)"
      ]
    },
    {
      "cell_type": "markdown",
      "metadata": {
        "id": "-ZirJkwANlTR"
      },
      "source": [
        "### Q7\n",
        "Compare the result of your DP implementation to the by-hand computation in Q4 and Q5."
      ]
    },
    {
      "cell_type": "markdown",
      "metadata": {
        "id": "cutNiVeiNlTR"
      },
      "source": [
        "### Answer:\n",
        "\n",
        "#### Comparison of Dynamic Programming Results with Manual Calculations:\n",
        "\n",
        "* **Result from Dynamic Programming (Q6):**\n",
        "    * Optimal Cost: 1063.0\n",
        "    * Optimal Path: ['A', 'B', 'F', 'H']\n",
        "\n",
        "* **Result from Manual Calculations (Q4 and Q5):**\n",
        "    * Optimal Cost: 1063\n",
        "    * Optimal Path: A → B → F → H\n",
        "\n",
        "#### Consistency Between the Results:\n",
        "\n",
        "1. **Optimal Cost:** Both dynamic programming and manual calculations produced the identical optimal cost of **1063 energy units** to travel from City A to City H.\n",
        "\n",
        "2. **Optimal Path:** Both methods arrived at the same optimal path: **A → B → F → H**.\n",
        "\n",
        "#### Conclusion:\n",
        "\n",
        "* The complete agreement between the results of dynamic programming and manual calculations validates the correct implementation of the dynamic programming algorithm. It also demonstrates that dynamic programming leads to the same solution as obtained through manual analysis.\n",
        "\n",
        "* This comparison confirms that dynamic programming is an accurate and effective method for solving problems like the Shortest Path Problem. When implemented correctly, it produces results that match manual calculations.\n"
      ]
    },
    {
      "cell_type": "markdown",
      "metadata": {
        "id": "PuFBUyBsNlTR"
      },
      "source": [
        "## Part B: Traveling Salesperson\n",
        "In the Traveling Salesperson Problem (TSP), a salesperson is tasked with visiting a set of cities exactly once and returning to the starting city, while minimizing the total distance or cost traveled. The goal is to find the shortest possible route that visits all cities and returns to the starting point. Different from the above SSP, all cities are accessible in TSP.\n",
        "\n",
        "Consider the following example: There are four cities \"A\", \"B\", \"C\", \"D\". The salesperson travels from City \"A\", and wishes to find a minimum cost (distance) that visits each of the cities once and return to City \"A\"."
      ]
    },
    {
      "cell_type": "markdown",
      "metadata": {
        "id": "V8_7yJInNlTR"
      },
      "source": [
        "### Q8\n",
        "Consider the following given costs (travel distances), intuit the best control sequence. Explain why you chose this sequence."
      ]
    },
    {
      "cell_type": "markdown",
      "metadata": {
        "id": "epk2pm96NlTR"
      },
      "source": [
        "| Cities | A | B | C | D |\n",
        "|:---------:|:---------:|:---------:|:---------:|:---------:|\n",
        "| **A** | 0 | 5 | 1 | 15 |\n",
        "| **B** | 5 | 0 | 20 | 4 |\n",
        "| **C** | 1 | 20 | 0 | 3 |\n",
        "| **D** | 15 | 4 | 3 | 0 |"
      ]
    },
    {
      "cell_type": "markdown",
      "metadata": {
        "id": "ghCrldMXNlTR"
      },
      "source": [
        "### Answer:\n",
        "\n",
        "<img src=\"graph_traveling_salesperson_problem.png\" alt=\"graph traveling salesperson problem\" />"
      ]
    },
    {
      "cell_type": "markdown",
      "metadata": {
        "id": "wPLbdzZrV2le"
      },
      "source": [
        "#### Thinking about the Best Sequence:\n",
        "\n",
        "1. **Starting from A:**\n",
        "    * The least distance from A is to C (1 unit).\n",
        "    * So, **A → C**.\n",
        "\n",
        "2. **After C:**\n",
        "    * The least distance from C is to D (3 units).\n",
        "    * So, **C → D**.\n",
        "\n",
        "3. **After D:**\n",
        "    * The least distance from D is to B (4 units).\n",
        "    * So, **D → B**.\n",
        "\n",
        "4. **Finally returning to A:**\n",
        "    * The distance from B to A is 5 units.\n",
        "    * So, **B → A**.\n",
        "\n",
        "#### Best Sequence:\n",
        "\n",
        "* The optimal sequence is: **A → C → D → B → A**.\n",
        "\n",
        "\n",
        "I chose this sequence because it follows the strategy of choosing the least cost path at each step. At each city, we choose to move to the nearest city (with the least cost), which helps to minimize the total cost of the path. This sequence achieves the optimal balance between the total distances, leading to minimizing the total distance traveled.\n"
      ]
    },
    {
      "cell_type": "markdown",
      "metadata": {
        "id": "EPvOVDKsNlTR"
      },
      "source": [
        "### Q9\n",
        "For all possible control sequences, calculate their costs by hand using the \"cost-to-go\" functions of all constituent cities."
      ]
    },
    {
      "cell_type": "markdown",
      "metadata": {
        "id": "u7rPueEvNlTR"
      },
      "source": [
        "### Answer:\n",
        "\n",
        "#### Possible Sequences:\n",
        "\n",
        "* **A → B → C → D → A**\n",
        "* **A → B → D → C → A**\n",
        "* **A → C → B → D → A**\n",
        "* **A → C → D → B → A**\n",
        "* **A → D → B → C → A**\n",
        "* **A → D → C → B → A**\n",
        "\n",
        "#### Cost Calculation:\n",
        "\n",
        "1. **A → B → C → D → A:**\n",
        "    * A → B: 5\n",
        "    * B → C: 20\n",
        "    * C → D: 3\n",
        "    * D → A: 15\n",
        "    * **Total: 5 + 20 + 3 + 15 = 43**\n",
        "\n",
        "2. **A → B → D → C → A:**\n",
        "    * A → B: 5\n",
        "    * B → D: 4\n",
        "    * D → C: 3\n",
        "    * C → A: 1\n",
        "    * **Total: 5 + 4 + 3 + 1 = 13**\n",
        "\n",
        "3. **A → C → B → D → A:**\n",
        "    * A → C: 1\n",
        "    * C → B: 20\n",
        "    * B → D: 4\n",
        "    * D → A: 15\n",
        "    * **Total: 1 + 20 + 4 + 15 = 40**\n",
        "\n",
        "4. **A → C → D → B → A:**\n",
        "    * A → C: 1\n",
        "    * C → D: 3\n",
        "    * D → B: 4\n",
        "    * B → A: 5\n",
        "    * **Total: 1 + 3 + 4 + 5 = 13**\n",
        "\n",
        "5. **A → D → B → C → A:**\n",
        "    * A → D: 15\n",
        "    * D → B: 4\n",
        "    * B → C: 20\n",
        "    * C → A: 1\n",
        "    * **Total: 15 + 4 + 20 + 1 = 40**\n",
        "\n",
        "6. **A → D → C → B → A:**\n",
        "    * A → D: 15\n",
        "    * D → C: 3\n",
        "    * C → B: 20\n",
        "    * B → A: 5\n",
        "    * **Total: 15 + 3 + 20 + 5 = 43**\n",
        "\n",
        "#### Results:\n",
        "\n",
        "| Sequence                 | Total Cost |\n",
        "|--------------------------|-------------|\n",
        "| A → B → C → D → A        | 43          |\n",
        "| A → B → D → C → A        | 13          |\n",
        "| A → C → B → D → A        | 40          |\n",
        "| A → C → D → B → A        | 13          |\n",
        "| A → D → B → C → A        | 40          |\n",
        "| A → D → C → B → A        | 43          |\n",
        "\n",
        "#### Conclusion:\n",
        "\n",
        "The lowest cost is **13 units**, and is achieved through the paths:\n",
        "\n",
        "* **A → B → D → C → A**\n",
        "* **A → C → D → B → A**\n",
        "\n",
        "These calculations confirm that there are two possible paths that provide the same lowest cost."
      ]
    },
    {
      "cell_type": "markdown",
      "metadata": {
        "id": "3iv3OWUBNlTR"
      },
      "source": [
        "### Q10\n",
        "Consider all possible sequences from Q9, identify the best (optimal) control sequence. Is this the control sequence that you expect? Explain why."
      ]
    },
    {
      "cell_type": "markdown",
      "metadata": {
        "id": "HfircjKZNlTR"
      },
      "source": [
        "### Answer:\n",
        "\n",
        "From the manual calculations in **Q9**, we found that there are two paths that achieve the lowest cost:\n",
        "\n",
        "1. **A → B → D → C → A** at a cost of 13 units.\n",
        "2. **A → C → D → B → A** at a cost of 13 units.\n",
        "\n",
        "This is consistent with the expected sequence. In **Q8**, we determined that the optimal sequence, based on intuition, is **A → C → D → B → A**, which is one of the two paths that achieve the lowest cost.\n",
        "\n",
        "\n",
        "### Explanation:\n",
        "\n",
        "* **Reason for choosing this sequence:**\n",
        "    * Looking at the distance table, we find that **A → C** is the cheapest (1 unit).\n",
        "    * Then, **C → D** (3 units) and **D → B** (4 units) are the cheapest paths to reach the next city.\n",
        "    * Returning from **B → A** costs 5 units, making this path (**A → C → D → B → A**) the least costly.\n",
        "\n",
        "* **Final result:**\n",
        "    * The results from **Q9** agree with the intuition expected in **Q8**, reinforcing the conclusion that the best sequence for visiting cities is **A → C → D → B → A**.\n",
        "    * However, it is also important to note that **A → B → D → C → A** offers the same cost. This means there is more than one optimal sequence in this scenario.\n",
        "\n"
      ]
    },
    {
      "cell_type": "markdown",
      "metadata": {
        "id": "8m4dg_TGNlTR"
      },
      "source": [
        "### Q11\n",
        "Use the dynamic programming algorithm to identify the best (optimal) control sequence."
      ]
    },
    {
      "cell_type": "markdown",
      "metadata": {
        "id": "r7jNLzpHNlTS"
      },
      "source": [
        "### Answer:\n",
        "\n",
        "To find the optimal sequence for the Traveling Salesman Problem (TSP) using dynamic programming manually, we follow these steps:\n",
        "\n",
        "### Basic Steps:\n",
        "\n",
        "1. **Start Phase:**\n",
        "    * Begin at city \"A\".\n",
        "    * Visit every other city and calculate the cost to reach it from \"A\".\n",
        "\n",
        "2. **Exploration Phase:**\n",
        "    * From each visited city, visit the remaining cities one by one, calculating the total cost.\n",
        "\n",
        "3. **Return Phase:**\n",
        "    * After visiting all cities, return to city \"A\" and calculate the total cost of the path.\n",
        "\n",
        "4. **Optimal Selection:**\n",
        "    * Choose the path with the lowest total cost.\n",
        "\n",
        "### Calculations:\n",
        "\n",
        "#### Phase 1: From A to all other cities:\n",
        "\n",
        "* A → B: 5 units\n",
        "* A → C: 1 unit\n",
        "* A → D: 15 units\n",
        "\n",
        "#### Phase 2: Explore routes from each city:\n",
        "\n",
        "1. **Path A → B:**\n",
        "    * B → C: 20\n",
        "    * B → D: 4\n",
        "\n",
        "    * **B → C → D → A:**\n",
        "        * B → C: 20\n",
        "        * C → D: 3\n",
        "        * D → A: 15\n",
        "        * **Total cost: 5 (A → B) + 20 (B → C) + 3 (C → D) + 15 (D → A) = 43**\n",
        "\n",
        "    * **B → D → C → A:**\n",
        "        * B → D: 4\n",
        "        * D → C: 3\n",
        "        * C → A: 1\n",
        "        * **Total cost: 5 (A → B) + 4 (B → D) + 3 (D → C) + 1 (C → A) = 13**\n",
        "\n",
        "2. **Path A → C:**\n",
        "    * C → B: 20\n",
        "    * C → D: 3\n",
        "\n",
        "    * **C → B → D → A:**\n",
        "        * C → B: 20\n",
        "        * B → D: 4\n",
        "        * D → A: 15\n",
        "        * **Total cost: 1 (A → C) + 20 (C → B) + 4 (B → D) + 15 (D → A) = 40**\n",
        "\n",
        "    * **C → D → B → A:**\n",
        "        * C → D: 3\n",
        "        * D → B: 4\n",
        "        * B → A: 5\n",
        "        * **Total cost: 1 (A → C) + 3 (C → D) + 4 (D → B) + 5 (B → A) = 13**\n",
        "\n",
        "3. **Path A → D:**\n",
        "    * D → B: 4\n",
        "    * D → C: 3\n",
        "\n",
        "    * **D → B → C → A:**\n",
        "        * D → B: 4\n",
        "        * B → C: 20\n",
        "        * C → A: 1\n",
        "        * **Total cost: 15 (A → D) + 4 (D → B) + 20 (B → C) + 1 (C → A) = 40**\n",
        "\n",
        "    * **D → C → B → A:**\n",
        "        * D → C: 3\n",
        "        * C → B: 20\n",
        "        * B → A: 5\n",
        "        * **Total cost: 15 (A → D) + 3 (D → C) + 20 (C → B) + 5 (B → A) = 43**\n",
        "\n",
        "### Conclusion:\n",
        "\n",
        "* **The lowest cost is 13, achieved by two paths:**\n",
        "    1. **A → B → D → C → A**\n",
        "    2. **A → C → D → B → A**\n",
        "\n",
        "* This aligns with previous calculations and the initial intuition in **Q8**, where **A → C → D → B → A** was the expected optimal sequence.\n"
      ]
    },
    {
      "cell_type": "markdown",
      "metadata": {
        "id": "1oRm2dPNNlTS"
      },
      "source": [
        "### Q12\n",
        "Compare the control sequence from the \"cost-to-go\" functions (Q10) and dynamic programming algorithm (Q11). Are these sequences identical? Does this outcome align with your initial expectations?"
      ]
    },
    {
      "cell_type": "markdown",
      "metadata": {
        "id": "wTO3tmhdNlTS"
      },
      "source": [
        "### Answer:\n",
        "\n",
        "In **Q10**, we identified two paths with the lowest cost (13 units):\n",
        "\n",
        "1. **A → B → D → C → A**\n",
        "2. **A → C → D → B → A**\n",
        "\n",
        "Using dynamic programming, we confirmed that the optimal sequence is **A → C → D → B → A**, also with a cost of 13 units. Notably, **A → C → D → B → A** is an optimal sequence in both methods (manual cost-to-go calculation and dynamic programming).\n",
        "\n",
        "We expected **A → C → D → B → A** to be optimal based on choosing the least costly path at each step. Dynamic programming validated this expectation by producing the same optimal result.\n",
        "\n",
        "### Conclusion:\n",
        "\n",
        "Both the cost-to-go and dynamic programming methods yielded the same optimal sequence, strengthening the validity of our analysis and supporting initial expectations. Dynamic programming proves to be an effective method for systematically confirming the optimal solution.\n"
      ]
    },
    {
      "cell_type": "markdown",
      "metadata": {
        "id": "Mr3AKAsvNlTS"
      },
      "source": [
        "### Q13\n",
        "In the above, we started and finished in city A. How would the optimal control sequence change if we were to start and finish in a different city?"
      ]
    },
    {
      "cell_type": "markdown",
      "metadata": {
        "id": "VMYI0OBiNlTS"
      },
      "source": [
        "### Answer:\n",
        "\n",
        "To understand how the optimal control sequence in the Traveling Salesperson Problem (TSP) changes with a different start/end city, we'll recalculate the optimal sequence using a new starting point.\n",
        "\n",
        "#### Step 1: Determine a New Start and End City\n",
        "\n",
        "Let's change the salesperson's starting and ending point from City **A** to City **B**.\n",
        "\n",
        "#### Step 2: List All Possible Paths\n",
        "\n",
        "With cities **B, C, D, A**, the possible paths starting and ending at **B** are:\n",
        "\n",
        "1. **B → A → C → D → B**\n",
        "2. **B → A → D → C → B**\n",
        "3. **B → C → A → D → B**\n",
        "4. **B → C → D → A → B**\n",
        "5. **B → D → A → C → B**\n",
        "6. **B → D → C → A → B**\n",
        "\n",
        "#### Step 3: Calculate the Cost of Each Path\n",
        "\n",
        "Using the provided distance matrix, We calculate the total distance for each path:\n",
        "\n",
        "| Path | Calculation | Total Cost |\n",
        "|---|---|---|\n",
        "| **B → A → C → D → B** | 5 (B→A) + 1 (A→C) + 3 (C→D) + 4 (D→B) | **13** |\n",
        "| B → A → D → C → B | 5 (B→A) + 15 (A→D) + 3 (D→C) + 20 (C→B) | 43 |\n",
        "| B → C → A → D → B | 20 (B→C) + 1 (C→A) + 15 (A→D) + 4 (D→B) | 40 |\n",
        "| B → C → D → A → B | 20 (B→C) + 3 (C→D) + 15 (D→A) + 5 (A→B) | 43 |\n",
        "| B → D → A → C → B | 4 (B→D) + 15 (D→A) + 1 (A→C) + 20 (C→B) | 40 |\n",
        "| **B → D → C → A → B** | 4 (B→D) + 3 (D→C) + 1 (C→A) + 5 (A→B) | **13** |\n",
        "\n",
        "#### Step 4: Determine the Optimal Path\n",
        "\n",
        "The paths **B → A → C → D → B** and **B → D → C → A → B** both have the minimum total cost of **13 units**.\n",
        "\n",
        "#### Step 5: Comparison and Conclusion\n",
        "\n",
        "Changing the start/end city to **B** resulted in two optimal control sequences: **B → A → C → D → B** and **B → D → C → A → B**. Interestingly, the minimum cost (13 units) remained the same as when starting and ending in city **A**.\n",
        "\n",
        "This suggests that the optimal sequence depends heavily on individual inter-city distances rather than the specific starting point. However, in more complex scenarios or with different weights, changing the starting point might lead to a different optimal path and cost. This highlights the importance of recalculating the optimal path whenever the problem's initial conditions change.\n"
      ]
    },
    {
      "cell_type": "markdown",
      "metadata": {
        "id": "3v5_ErC4NlTS"
      },
      "source": [
        "### Q14\n",
        "In the above, we considered a problem with 4 states (cities). How would you handle a higher order problem (e.g. with 20 cities)?"
      ]
    },
    {
      "cell_type": "markdown",
      "metadata": {
        "id": "L49ZW0yRNlTS"
      },
      "source": [
        "### Answer\n",
        "\n",
        "The complexity of the Traveling Salesperson Problem (TSP) grows exponentially with the number of cities (states). This means the number of possible routes increases dramatically as more cities are added. For instance, with 20 cities, the number of permutations is  `(20-1)!` , which is  `19!` , or about 1.216 x 10<sup>17</sup> possible routes.\n",
        "\n",
        "While exact methods like dynamic programming are still feasible for smaller instances, they become computationally expensive for problems with a large number of cities.  As the problem size increases, heuristics and approximation algorithms, such as genetic algorithms and ant colony optimization, become necessary to find near-optimal solutions within a practical timeframe.\n",
        "\n",
        "Ultimately, the best method for solving a TSP depends on the desired level of accuracy and the available computational resources.\n"
      ]
    },
    {
      "cell_type": "markdown",
      "metadata": {
        "id": "lHs7CtTkNlTS"
      },
      "source": [
        "### Q15\n",
        "Given the costs in Q8, complete the following code to implement the deterministic dynamic programming algorithm for the TSP starting from City \"A\"."
      ]
    },
    {
      "cell_type": "code",
      "execution_count": 10,
      "metadata": {
        "id": "sdiUcIX7NlTS"
      },
      "outputs": [],
      "source": [
        "cityCosts = np.array([\n",
        "  [float('inf'), 5, 1, 15],\n",
        "  [5, float('inf'), 20, 4],\n",
        "  [1, 20, float('inf'), 3],\n",
        "  [15, 4, 3, float('inf')]\n",
        "])"
      ]
    },
    {
      "cell_type": "code",
      "execution_count": 11,
      "metadata": {
        "id": "kSuf3nfqNlTS"
      },
      "outputs": [],
      "source": [
        "# Create Dynamic Programming function\n",
        "# Hint: use 'def func_name(inputs): ... return outputs'\n",
        "### START CODE HERE ###\n",
        "def DeterministicDP(currentCity, costs, actions):\n",
        "    \"\"\"\n",
        "    Determine the minimum cost and the corresponding next city using dynamic programming.\n",
        "\n",
        "    :param currentCity: The index of the current city.\n",
        "    :param costs: An array representing the costs from the current city to other cities.\n",
        "    :param actions: List of available actions (cities).\n",
        "    :return: A tuple containing the minimum cost and the next city to visit.\n",
        "    \"\"\"\n",
        "    minCost = float('inf')\n",
        "    nextCity = None\n",
        "\n",
        "    for i in range(len(costs)):\n",
        "        if costs[i] < minCost:\n",
        "            minCost = costs[i]\n",
        "            nextCity = actions[i]\n",
        "\n",
        "    return minCost, nextCity\n",
        "\n",
        "\n",
        "\n",
        "### END CODE HERE ###"
      ]
    },
    {
      "cell_type": "code",
      "execution_count": 12,
      "metadata": {
        "colab": {
          "base_uri": "https://localhost:8080/"
        },
        "id": "4nK27VRsNlTW",
        "outputId": "96265282-7e21-4193-956a-7886c3aee7c1"
      },
      "outputs": [
        {
          "name": "stdout",
          "output_type": "stream",
          "text": [
            "City Set: ['A', 'B', 'C', 'D']\n",
            "Travel Costs:\n",
            " [[inf  5.  1. 15.]\n",
            " [ 5. inf 20.  4.]\n",
            " [ 1. 20. inf  3.]\n",
            " [15.  4.  3. inf]]\n",
            "Final Cost: 13.0\n",
            "Cost: [5.0, 4.0, 3.0, 1.0, 0]\n",
            "Path: ['A', 'B', 'D', 'C', 'A']\n"
          ]
        }
      ],
      "source": [
        "numCity = 4 # set number of cities\n",
        "Path = ['A'] # initialize terminal state in the path\n",
        "Cost = [0] # initialize terminal cost\n",
        "runningCost = 0 # intiailize terminal running cost\n",
        "# Create Action Set\n",
        "ActionSet = []\n",
        "for ii in range(numCity):\n",
        "    ActionSet += chr(ord('A')+ii)\n",
        "\n",
        "# Establish Terminal State City\n",
        "currentCity = 'A'\n",
        "\n",
        "# while we have not visited all cities\n",
        "while len(Path) <= numCity:\n",
        "    # extract the cost to travel from where we are\n",
        "    tempCost = np.array(cityCosts[:,ActionSet.index(currentCity)])\n",
        "    if len(Path) < numCity:\n",
        "        # if we haven't visited all cities\n",
        "        for ii in Path:\n",
        "            # set the cost for any city we have been to to infinite\n",
        "            tempCost[ActionSet.index(ii)] = float('inf')\n",
        "    else:\n",
        "        # after we have visited all cities\n",
        "        for ii in Path[:-1]:\n",
        "            # set every city except the last to have infinite cost\n",
        "            tempCost[ActionSet.index(ii)] = float('inf')\n",
        "\n",
        "    # operate DP function\n",
        "    newCost, newAction = DeterministicDP(0, tempCost, ActionSet)\n",
        "    Path.insert(0,newAction) # add action to the START of the path\n",
        "    Cost.insert(0,newCost) # add the cost\n",
        "    runningCost += newCost # add to running cost\n",
        "    currentCity = newAction # update location\n",
        "\n",
        "print('City Set:', ActionSet)\n",
        "print('Travel Costs:\\n', cityCosts)\n",
        "print('Final Cost:', runningCost)\n",
        "print('Cost:', Cost)\n",
        "print('Path:', Path)"
      ]
    },
    {
      "cell_type": "markdown",
      "metadata": {
        "id": "VLj0Ny7DNlTW"
      },
      "source": [
        "## Part C: Discussion"
      ]
    },
    {
      "cell_type": "markdown",
      "metadata": {
        "id": "g8-eF6LUNlTW"
      },
      "source": [
        "### Q16\n",
        "Discuss the issues you have encountered when using the deterministic dynamic programming algorithm."
      ]
    },
    {
      "cell_type": "markdown",
      "metadata": {
        "id": "CMaJKa6tNlTX"
      },
      "source": [
        "### Answer\n",
        "\n",
        "Deterministic dynamic programming faces significant challenges, especially in large-scale problems such as the traveling salesperson problem. The main issues include:\n",
        "\n",
        "1. **State space explosion**: The number of subproblems grows exponentially with the number of cities, leading to high computational and memory costs.\n",
        "2. **Computational complexity**: Deterministic dynamic programming algorithms are often time-intensive, making them impractical for large problems.\n",
        "3. **Scalability**: As the problem size increases, deterministic dynamic programming struggles to scale effectively, limiting its applicability in larger scenarios."
      ]
    },
    {
      "cell_type": "markdown",
      "metadata": {
        "id": "Lv9wVJTGNlTX"
      },
      "source": [
        "### Q17\n",
        "Consider the TSP problem and assume that the salesperson needs to do a round-trip (covering all cities starting and ending in City \"A\" every day). Unfortunately, the travelling cost between cities is random, and the salesperson does not known values in advance. Suggest a procedure that will assist the salesperson to optimize their route choices over time."
      ]
    },
    {
      "cell_type": "markdown",
      "metadata": {
        "id": "APooFhayNlTX"
      },
      "source": [
        "### Answer\n",
        "\n",
        "In scenarios where the travel costs between cities are random and unknown, a salesperson can use **reinforcement learning** to optimize their route over time. Specifically, the salesperson can use an **exploitation** strategy:\n",
        "\n",
        "1. **Exploration**: Initially, the salesperson randomly selects routes to collect data on travel costs between cities.\n",
        "\n",
        "2. **Exploitation**: Over time, as more data is collected, the salesperson increasingly prefers routes that have been shown to minimize travel costs.\n",
        "\n",
        "3. **Policy Update**: The salesperson continually updates their routing policy based on new information, gradually moving toward an optimal route that minimizes total expected travel costs over time.\n",
        "\n",
        "This adaptive approach allows the salesperson to dynamically optimize their route choices, even when costs are uncertain."
      ]
    }
  ],
  "metadata": {
    "colab": {
      "provenance": []
    },
    "kernelspec": {
      "display_name": "Python 3 (ipykernel)",
      "language": "python",
      "name": "python3"
    },
    "language_info": {
      "codemirror_mode": {
        "name": "ipython",
        "version": 3
      },
      "file_extension": ".py",
      "mimetype": "text/x-python",
      "name": "python",
      "nbconvert_exporter": "python",
      "pygments_lexer": "ipython3",
      "version": "3.11.4"
    }
  },
  "nbformat": 4,
  "nbformat_minor": 0
}
